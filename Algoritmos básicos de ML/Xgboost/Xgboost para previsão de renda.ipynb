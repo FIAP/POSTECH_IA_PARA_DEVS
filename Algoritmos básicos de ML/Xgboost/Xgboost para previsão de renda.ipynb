{
 "cells": [
  {
   "cell_type": "markdown",
   "metadata": {},
   "source": [
    "#### Motivaçao:\n",
    " - Download da base de dados\n",
    " - Manipulaçao dos dados\n",
    " - Desenvolvimento do modelo\n",
    " - Avaliaçao do modelo\n",
    " - Conclusoes\n",
    " \n",
    " \n",
    " Esta aula é baseada na base de dados a seguir:\n",
    " Adult Data Set: https://archive.ics.uci.edu/ml/datasets/adult\n",
    " Donor:\n",
    " Ronny Kohavi and Barry Becker\n",
    " Data Mining and Visualization\n",
    " Silicon Graphics."
   ]
  },
  {
   "cell_type": "code",
   "execution_count": 1,
   "metadata": {},
   "outputs": [],
   "source": [
    "options(warn = -1) "
   ]
  },
  {
   "cell_type": "code",
   "execution_count": null,
   "metadata": {},
   "outputs": [],
   "source": [
    "#install.packages(\"xgboost\")"
   ]
  },
  {
   "cell_type": "code",
   "execution_count": 2,
   "metadata": {
    "scrolled": false
   },
   "outputs": [
    {
     "name": "stderr",
     "output_type": "stream",
     "text": [
      "\n",
      "Attaching package: 'dplyr'\n",
      "\n",
      "The following object is masked from 'package:xgboost':\n",
      "\n",
      "    slice\n",
      "\n",
      "The following objects are masked from 'package:data.table':\n",
      "\n",
      "    between, first, last\n",
      "\n",
      "The following objects are masked from 'package:stats':\n",
      "\n",
      "    filter, lag\n",
      "\n",
      "The following objects are masked from 'package:base':\n",
      "\n",
      "    intersect, setdiff, setequal, union\n",
      "\n",
      "Loading required package: lattice\n"
     ]
    }
   ],
   "source": [
    "# Carregando as bibliotecas\n",
    "\n",
    "library(data.table)\n",
    "library(xgboost)\n",
    "library(ggplot2)\n",
    "library(dplyr)\n",
    "library(stringr)\n",
    "library(caret)"
   ]
  },
  {
   "cell_type": "markdown",
   "metadata": {},
   "source": [
    "_____________________________________________"
   ]
  },
  {
   "cell_type": "markdown",
   "metadata": {},
   "source": [
    "### Download da base de dados"
   ]
  },
  {
   "cell_type": "code",
   "execution_count": 3,
   "metadata": {},
   "outputs": [],
   "source": [
    "colunas <- c(\"age\", \"workclass\", \"fnlwgt\", \"education\", \"education_num\", \"marital_status\", \"occupation\", \"relationship\"\n",
    "            , \"race\", \"sex\", \"capital_gain\", \"capital-loss\", \"hours_per_week\", \"native_country\", \"target\")\n",
    "\n",
    "adult_train <- read.csv(\"https://archive.ics.uci.edu/ml/machine-learning-databases/adult/adult.data\"\n",
    "                          , header = F, sep = \",\", col.names = colunas, na.strings = c(\" ?\"), stringsAsFactors = F)\n",
    "adult_test <- read.csv(\"https://archive.ics.uci.edu/ml/machine-learning-databases/adult/adult.test\"\n",
    "                         , header = F, sep = \",\", col.names = colunas, na.strings = c(\" ?\"), stringsAsFactors = F)\n",
    "\n",
    "# Observaçao: no arquivo original, os dados faltantes estao como \" ?\""
   ]
  },
  {
   "cell_type": "code",
   "execution_count": 4,
   "metadata": {},
   "outputs": [
    {
     "name": "stdout",
     "output_type": "stream",
     "text": [
      "'data.frame':\t32561 obs. of  15 variables:\n",
      " $ age           : int  39 50 38 53 28 37 49 52 31 42 ...\n",
      " $ workclass     : chr  \" State-gov\" \" Self-emp-not-inc\" \" Private\" \" Private\" ...\n",
      " $ fnlwgt        : int  77516 83311 215646 234721 338409 284582 160187 209642 45781 159449 ...\n",
      " $ education     : chr  \" Bachelors\" \" Bachelors\" \" HS-grad\" \" 11th\" ...\n",
      " $ education_num : int  13 13 9 7 13 14 5 9 14 13 ...\n",
      " $ marital_status: chr  \" Never-married\" \" Married-civ-spouse\" \" Divorced\" \" Married-civ-spouse\" ...\n",
      " $ occupation    : chr  \" Adm-clerical\" \" Exec-managerial\" \" Handlers-cleaners\" \" Handlers-cleaners\" ...\n",
      " $ relationship  : chr  \" Not-in-family\" \" Husband\" \" Not-in-family\" \" Husband\" ...\n",
      " $ race          : chr  \" White\" \" White\" \" White\" \" Black\" ...\n",
      " $ sex           : chr  \" Male\" \" Male\" \" Male\" \" Male\" ...\n",
      " $ capital_gain  : int  2174 0 0 0 0 0 0 0 14084 5178 ...\n",
      " $ capital.loss  : int  0 0 0 0 0 0 0 0 0 0 ...\n",
      " $ hours_per_week: int  40 13 40 40 40 40 16 45 50 40 ...\n",
      " $ native_country: chr  \" United-States\" \" United-States\" \" United-States\" \" United-States\" ...\n",
      " $ target        : chr  \" <=50K\" \" <=50K\" \" <=50K\" \" <=50K\" ...\n",
      "'data.frame':\t16282 obs. of  15 variables:\n",
      " $ age           : chr  \"|1x3 Cross validator\" \"25\" \"38\" \"28\" ...\n",
      " $ workclass     : chr  \"\" \" Private\" \" Private\" \" Local-gov\" ...\n",
      " $ fnlwgt        : int  NA 226802 89814 336951 160323 103497 198693 227026 104626 369667 ...\n",
      " $ education     : chr  \"\" \" 11th\" \" HS-grad\" \" Assoc-acdm\" ...\n",
      " $ education_num : int  NA 7 9 12 10 10 6 9 15 10 ...\n",
      " $ marital_status: chr  \"\" \" Never-married\" \" Married-civ-spouse\" \" Married-civ-spouse\" ...\n",
      " $ occupation    : chr  \"\" \" Machine-op-inspct\" \" Farming-fishing\" \" Protective-serv\" ...\n",
      " $ relationship  : chr  \"\" \" Own-child\" \" Husband\" \" Husband\" ...\n",
      " $ race          : chr  \"\" \" Black\" \" White\" \" White\" ...\n",
      " $ sex           : chr  \"\" \" Male\" \" Male\" \" Male\" ...\n",
      " $ capital_gain  : int  NA 0 0 0 7688 0 0 0 3103 0 ...\n",
      " $ capital.loss  : int  NA 0 0 0 0 0 0 0 0 0 ...\n",
      " $ hours_per_week: int  NA 40 50 40 40 30 30 40 32 40 ...\n",
      " $ native_country: chr  \"\" \" United-States\" \" United-States\" \" United-States\" ...\n",
      " $ target        : chr  \"\" \" <=50K.\" \" <=50K.\" \" >50K.\" ...\n"
     ]
    }
   ],
   "source": [
    "str(adult_train)\n",
    "str(adult_test)"
   ]
  },
  {
   "cell_type": "markdown",
   "metadata": {},
   "source": [
    "_____________________________________________"
   ]
  },
  {
   "cell_type": "markdown",
   "metadata": {},
   "source": [
    "### Manipulaçao dos dados"
   ]
  },
  {
   "cell_type": "code",
   "execution_count": 16,
   "metadata": {},
   "outputs": [
    {
     "data": {
      "text/html": [
       "<table>\n",
       "<thead><tr><th scope=col>age</th><th scope=col>workclass</th><th scope=col>fnlwgt</th><th scope=col>education</th><th scope=col>education_num</th><th scope=col>marital_status</th><th scope=col>occupation</th><th scope=col>relationship</th><th scope=col>race</th><th scope=col>sex</th><th scope=col>capital_gain</th><th scope=col>capital.loss</th><th scope=col>hours_per_week</th><th scope=col>native_country</th><th scope=col>target</th></tr></thead>\n",
       "<tbody>\n",
       "\t<tr><td>39                                                        </td><td><span style=white-space:pre-wrap>State-gov       </span>  </td><td> 77516                                                    </td><td>Bachelors                                                 </td><td>13                                                        </td><td><span style=white-space:pre-wrap>Never-married     </span></td><td><span style=white-space:pre-wrap>Adm-clerical     </span> </td><td>Not-in-family                                             </td><td>White                                                     </td><td><span style=white-space:pre-wrap>Male  </span>            </td><td>2174                                                      </td><td>0                                                         </td><td>40                                                        </td><td>United-States                                             </td><td>&lt;=50K                                                  </td></tr>\n",
       "\t<tr><td>50                                                       </td><td>Self-emp-not-inc                                         </td><td> 83311                                                   </td><td>Bachelors                                                </td><td>13                                                       </td><td>Married-civ-spouse                                       </td><td><span style=white-space:pre-wrap>Exec-managerial  </span></td><td><span style=white-space:pre-wrap>Husband      </span>    </td><td>White                                                    </td><td><span style=white-space:pre-wrap>Male  </span>           </td><td><span style=white-space:pre-wrap>   0</span>             </td><td>0                                                        </td><td>13                                                       </td><td>United-States                                            </td><td>&lt;=50K                                                 </td></tr>\n",
       "\t<tr><td>38                                                        </td><td><span style=white-space:pre-wrap>Private         </span>  </td><td>215646                                                    </td><td><span style=white-space:pre-wrap>HS-grad  </span>         </td><td> 9                                                        </td><td><span style=white-space:pre-wrap>Divorced          </span></td><td>Handlers-cleaners                                         </td><td>Not-in-family                                             </td><td>White                                                     </td><td><span style=white-space:pre-wrap>Male  </span>            </td><td><span style=white-space:pre-wrap>   0</span>              </td><td>0                                                         </td><td>40                                                        </td><td>United-States                                             </td><td>&lt;=50K                                                  </td></tr>\n",
       "\t<tr><td>53                                                      </td><td><span style=white-space:pre-wrap>Private         </span></td><td>234721                                                  </td><td><span style=white-space:pre-wrap>11th     </span>       </td><td> 7                                                      </td><td>Married-civ-spouse                                      </td><td>Handlers-cleaners                                       </td><td><span style=white-space:pre-wrap>Husband      </span>   </td><td>Black                                                   </td><td><span style=white-space:pre-wrap>Male  </span>          </td><td><span style=white-space:pre-wrap>   0</span>            </td><td>0                                                       </td><td>40                                                      </td><td>United-States                                           </td><td>&lt;=50K                                                </td></tr>\n",
       "\t<tr><td>28                                                       </td><td><span style=white-space:pre-wrap>Private         </span> </td><td>338409                                                   </td><td>Bachelors                                                </td><td>13                                                       </td><td>Married-civ-spouse                                       </td><td><span style=white-space:pre-wrap>Prof-specialty   </span></td><td><span style=white-space:pre-wrap>Wife         </span>    </td><td>Black                                                    </td><td>Female                                                   </td><td><span style=white-space:pre-wrap>   0</span>             </td><td>0                                                        </td><td>40                                                       </td><td><span style=white-space:pre-wrap>Cuba         </span>    </td><td>&lt;=50K                                                 </td></tr>\n",
       "\t<tr><td>37                                                       </td><td><span style=white-space:pre-wrap>Private         </span> </td><td>284582                                                   </td><td><span style=white-space:pre-wrap>Masters  </span>        </td><td>14                                                       </td><td>Married-civ-spouse                                       </td><td><span style=white-space:pre-wrap>Exec-managerial  </span></td><td><span style=white-space:pre-wrap>Wife         </span>    </td><td>White                                                    </td><td>Female                                                   </td><td><span style=white-space:pre-wrap>   0</span>             </td><td>0                                                        </td><td>40                                                       </td><td>United-States                                            </td><td>&lt;=50K                                                 </td></tr>\n",
       "</tbody>\n",
       "</table>\n"
      ],
      "text/latex": [
       "\\begin{tabular}{r|lllllllllllllll}\n",
       " age & workclass & fnlwgt & education & education\\_num & marital\\_status & occupation & relationship & race & sex & capital\\_gain & capital.loss & hours\\_per\\_week & native\\_country & target\\\\\n",
       "\\hline\n",
       "\t 39                 & State-gov          &  77516             & Bachelors          & 13                 & Never-married      & Adm-clerical       & Not-in-family      & White              & Male               & 2174               & 0                  & 40                 & United-States      & <=50K             \\\\\n",
       "\t 50                 & Self-emp-not-inc   &  83311             & Bachelors          & 13                 & Married-civ-spouse & Exec-managerial    & Husband            & White              & Male               &    0               & 0                  & 13                 & United-States      & <=50K             \\\\\n",
       "\t 38                 & Private            & 215646             & HS-grad            &  9                 & Divorced           & Handlers-cleaners  & Not-in-family      & White              & Male               &    0               & 0                  & 40                 & United-States      & <=50K             \\\\\n",
       "\t 53                 & Private            & 234721             & 11th               &  7                 & Married-civ-spouse & Handlers-cleaners  & Husband            & Black              & Male               &    0               & 0                  & 40                 & United-States      & <=50K             \\\\\n",
       "\t 28                 & Private            & 338409             & Bachelors          & 13                 & Married-civ-spouse & Prof-specialty     & Wife               & Black              & Female             &    0               & 0                  & 40                 & Cuba               & <=50K             \\\\\n",
       "\t 37                 & Private            & 284582             & Masters            & 14                 & Married-civ-spouse & Exec-managerial    & Wife               & White              & Female             &    0               & 0                  & 40                 & United-States      & <=50K             \\\\\n",
       "\\end{tabular}\n"
      ],
      "text/markdown": [
       "\n",
       "| age | workclass | fnlwgt | education | education_num | marital_status | occupation | relationship | race | sex | capital_gain | capital.loss | hours_per_week | native_country | target |\n",
       "|---|---|---|---|---|---|---|---|---|---|---|---|---|---|---|\n",
       "| 39                 | State-gov          |  77516             | Bachelors          | 13                 | Never-married      | Adm-clerical       | Not-in-family      | White              | Male               | 2174               | 0                  | 40                 | United-States      | <=50K              |\n",
       "| 50                 | Self-emp-not-inc   |  83311             | Bachelors          | 13                 | Married-civ-spouse | Exec-managerial    | Husband            | White              | Male               |    0               | 0                  | 13                 | United-States      | <=50K              |\n",
       "| 38                 | Private            | 215646             | HS-grad            |  9                 | Divorced           | Handlers-cleaners  | Not-in-family      | White              | Male               |    0               | 0                  | 40                 | United-States      | <=50K              |\n",
       "| 53                 | Private            | 234721             | 11th               |  7                 | Married-civ-spouse | Handlers-cleaners  | Husband            | Black              | Male               |    0               | 0                  | 40                 | United-States      | <=50K              |\n",
       "| 28                 | Private            | 338409             | Bachelors          | 13                 | Married-civ-spouse | Prof-specialty     | Wife               | Black              | Female             |    0               | 0                  | 40                 | Cuba               | <=50K              |\n",
       "| 37                 | Private            | 284582             | Masters            | 14                 | Married-civ-spouse | Exec-managerial    | Wife               | White              | Female             |    0               | 0                  | 40                 | United-States      | <=50K              |\n",
       "\n"
      ],
      "text/plain": [
       "  age workclass        fnlwgt education education_num marital_status    \n",
       "1 39  State-gov         77516 Bachelors 13            Never-married     \n",
       "2 50  Self-emp-not-inc  83311 Bachelors 13            Married-civ-spouse\n",
       "3 38  Private          215646 HS-grad    9            Divorced          \n",
       "4 53  Private          234721 11th       7            Married-civ-spouse\n",
       "5 28  Private          338409 Bachelors 13            Married-civ-spouse\n",
       "6 37  Private          284582 Masters   14            Married-civ-spouse\n",
       "  occupation        relationship  race  sex    capital_gain capital.loss\n",
       "1 Adm-clerical      Not-in-family White Male   2174         0           \n",
       "2 Exec-managerial   Husband       White Male      0         0           \n",
       "3 Handlers-cleaners Not-in-family White Male      0         0           \n",
       "4 Handlers-cleaners Husband       Black Male      0         0           \n",
       "5 Prof-specialty    Wife          Black Female    0         0           \n",
       "6 Exec-managerial   Wife          White Female    0         0           \n",
       "  hours_per_week native_country target\n",
       "1 40             United-States  <=50K \n",
       "2 13             United-States  <=50K \n",
       "3 40             United-States  <=50K \n",
       "4 40             United-States  <=50K \n",
       "5 40             Cuba           <=50K \n",
       "6 40             United-States  <=50K "
      ]
     },
     "metadata": {},
     "output_type": "display_data"
    }
   ],
   "source": [
    "# Temos um problema na primeira linha do teste\n",
    "\n",
    "head(adult_test)"
   ]
  },
  {
   "cell_type": "code",
   "execution_count": 6,
   "metadata": {},
   "outputs": [],
   "source": [
    "adult_test <- adult_test[-c(1), ] "
   ]
  },
  {
   "cell_type": "code",
   "execution_count": 8,
   "metadata": {},
   "outputs": [
    {
     "data": {
      "text/plain": [
       "\n",
       " FALSE   TRUE \n",
       "484153   4262 "
      ]
     },
     "metadata": {},
     "output_type": "display_data"
    }
   ],
   "source": [
    "# Verificando dados faltantes - base de treinamento\n",
    "\n",
    "table(is.na(adult_train))"
   ]
  },
  {
   "cell_type": "code",
   "execution_count": 9,
   "metadata": {},
   "outputs": [
    {
     "name": "stdout",
     "output_type": "stream",
     "text": [
      "[1] \"% de dados faltantes - base de treinamento\"\n"
     ]
    },
    {
     "data": {
      "text/html": [
       "<dl class=dl-horizontal>\n",
       "\t<dt>age</dt>\n",
       "\t\t<dd>0</dd>\n",
       "\t<dt>workclass</dt>\n",
       "\t\t<dd>5.64</dd>\n",
       "\t<dt>fnlwgt</dt>\n",
       "\t\t<dd>0</dd>\n",
       "\t<dt>education</dt>\n",
       "\t\t<dd>0</dd>\n",
       "\t<dt>education_num</dt>\n",
       "\t\t<dd>0</dd>\n",
       "\t<dt>marital_status</dt>\n",
       "\t\t<dd>0</dd>\n",
       "\t<dt>occupation</dt>\n",
       "\t\t<dd>5.66</dd>\n",
       "\t<dt>relationship</dt>\n",
       "\t\t<dd>0</dd>\n",
       "\t<dt>race</dt>\n",
       "\t\t<dd>0</dd>\n",
       "\t<dt>sex</dt>\n",
       "\t\t<dd>0</dd>\n",
       "\t<dt>capital_gain</dt>\n",
       "\t\t<dd>0</dd>\n",
       "\t<dt>capital.loss</dt>\n",
       "\t\t<dd>0</dd>\n",
       "\t<dt>hours_per_week</dt>\n",
       "\t\t<dd>0</dd>\n",
       "\t<dt>native_country</dt>\n",
       "\t\t<dd>1.79</dd>\n",
       "\t<dt>target</dt>\n",
       "\t\t<dd>0</dd>\n",
       "</dl>\n"
      ],
      "text/latex": [
       "\\begin{description*}\n",
       "\\item[age] 0\n",
       "\\item[workclass] 5.64\n",
       "\\item[fnlwgt] 0\n",
       "\\item[education] 0\n",
       "\\item[education\\textbackslash{}\\_num] 0\n",
       "\\item[marital\\textbackslash{}\\_status] 0\n",
       "\\item[occupation] 5.66\n",
       "\\item[relationship] 0\n",
       "\\item[race] 0\n",
       "\\item[sex] 0\n",
       "\\item[capital\\textbackslash{}\\_gain] 0\n",
       "\\item[capital.loss] 0\n",
       "\\item[hours\\textbackslash{}\\_per\\textbackslash{}\\_week] 0\n",
       "\\item[native\\textbackslash{}\\_country] 1.79\n",
       "\\item[target] 0\n",
       "\\end{description*}\n"
      ],
      "text/markdown": [
       "age\n",
       ":   0workclass\n",
       ":   5.64fnlwgt\n",
       ":   0education\n",
       ":   0education_num\n",
       ":   0marital_status\n",
       ":   0occupation\n",
       ":   5.66relationship\n",
       ":   0race\n",
       ":   0sex\n",
       ":   0capital_gain\n",
       ":   0capital.loss\n",
       ":   0hours_per_week\n",
       ":   0native_country\n",
       ":   1.79target\n",
       ":   0\n",
       "\n"
      ],
      "text/plain": [
       "           age      workclass         fnlwgt      education  education_num \n",
       "          0.00           5.64           0.00           0.00           0.00 \n",
       "marital_status     occupation   relationship           race            sex \n",
       "          0.00           5.66           0.00           0.00           0.00 \n",
       "  capital_gain   capital.loss hours_per_week native_country         target \n",
       "          0.00           0.00           0.00           1.79           0.00 "
      ]
     },
     "metadata": {},
     "output_type": "display_data"
    }
   ],
   "source": [
    "# Verifica onde temos NAs e qual o percentual - base de treinamento\n",
    "\n",
    "print(\"% de dados faltantes - base de treinamento\")\n",
    "round(sapply(adult_train, function(x) sum(is.na(x))/length(x))*100, 2)"
   ]
  },
  {
   "cell_type": "code",
   "execution_count": 10,
   "metadata": {},
   "outputs": [
    {
     "data": {
      "text/plain": [
       "\n",
       " FALSE   TRUE \n",
       "242012   2203 "
      ]
     },
     "metadata": {},
     "output_type": "display_data"
    }
   ],
   "source": [
    "# Verificando dados faltantes - base de treinamento\n",
    "\n",
    "table(is.na(adult_test))"
   ]
  },
  {
   "cell_type": "code",
   "execution_count": 11,
   "metadata": {},
   "outputs": [
    {
     "name": "stdout",
     "output_type": "stream",
     "text": [
      "[1] \"% de dados faltantes - base de teste\"\n"
     ]
    },
    {
     "data": {
      "text/html": [
       "<dl class=dl-horizontal>\n",
       "\t<dt>age</dt>\n",
       "\t\t<dd>0</dd>\n",
       "\t<dt>workclass</dt>\n",
       "\t\t<dd>5.91</dd>\n",
       "\t<dt>fnlwgt</dt>\n",
       "\t\t<dd>0</dd>\n",
       "\t<dt>education</dt>\n",
       "\t\t<dd>0</dd>\n",
       "\t<dt>education_num</dt>\n",
       "\t\t<dd>0</dd>\n",
       "\t<dt>marital_status</dt>\n",
       "\t\t<dd>0</dd>\n",
       "\t<dt>occupation</dt>\n",
       "\t\t<dd>5.93</dd>\n",
       "\t<dt>relationship</dt>\n",
       "\t\t<dd>0</dd>\n",
       "\t<dt>race</dt>\n",
       "\t\t<dd>0</dd>\n",
       "\t<dt>sex</dt>\n",
       "\t\t<dd>0</dd>\n",
       "\t<dt>capital_gain</dt>\n",
       "\t\t<dd>0</dd>\n",
       "\t<dt>capital.loss</dt>\n",
       "\t\t<dd>0</dd>\n",
       "\t<dt>hours_per_week</dt>\n",
       "\t\t<dd>0</dd>\n",
       "\t<dt>native_country</dt>\n",
       "\t\t<dd>1.68</dd>\n",
       "\t<dt>target</dt>\n",
       "\t\t<dd>0</dd>\n",
       "</dl>\n"
      ],
      "text/latex": [
       "\\begin{description*}\n",
       "\\item[age] 0\n",
       "\\item[workclass] 5.91\n",
       "\\item[fnlwgt] 0\n",
       "\\item[education] 0\n",
       "\\item[education\\textbackslash{}\\_num] 0\n",
       "\\item[marital\\textbackslash{}\\_status] 0\n",
       "\\item[occupation] 5.93\n",
       "\\item[relationship] 0\n",
       "\\item[race] 0\n",
       "\\item[sex] 0\n",
       "\\item[capital\\textbackslash{}\\_gain] 0\n",
       "\\item[capital.loss] 0\n",
       "\\item[hours\\textbackslash{}\\_per\\textbackslash{}\\_week] 0\n",
       "\\item[native\\textbackslash{}\\_country] 1.68\n",
       "\\item[target] 0\n",
       "\\end{description*}\n"
      ],
      "text/markdown": [
       "age\n",
       ":   0workclass\n",
       ":   5.91fnlwgt\n",
       ":   0education\n",
       ":   0education_num\n",
       ":   0marital_status\n",
       ":   0occupation\n",
       ":   5.93relationship\n",
       ":   0race\n",
       ":   0sex\n",
       ":   0capital_gain\n",
       ":   0capital.loss\n",
       ":   0hours_per_week\n",
       ":   0native_country\n",
       ":   1.68target\n",
       ":   0\n",
       "\n"
      ],
      "text/plain": [
       "           age      workclass         fnlwgt      education  education_num \n",
       "          0.00           5.91           0.00           0.00           0.00 \n",
       "marital_status     occupation   relationship           race            sex \n",
       "          0.00           5.93           0.00           0.00           0.00 \n",
       "  capital_gain   capital.loss hours_per_week native_country         target \n",
       "          0.00           0.00           0.00           1.68           0.00 "
      ]
     },
     "metadata": {},
     "output_type": "display_data"
    }
   ],
   "source": [
    "# Verifica onde temos NAs e qual o percentual - base de treinamento\n",
    "\n",
    "print(\"% de dados faltantes - base de teste\")\n",
    "round(sapply(adult_test, function(x) sum(is.na(x))/length(x))*100, 2)"
   ]
  },
  {
   "cell_type": "code",
   "execution_count": 12,
   "metadata": {},
   "outputs": [],
   "source": [
    "# Desta vez vamos usar os dados faltantes como informaçao ùtil\n",
    "\n",
    "adult_train[is.na(adult_train)] <- \"Ausente\" \n",
    "adult_test[is.na(adult_test)] <- \"Ausente\""
   ]
  },
  {
   "cell_type": "code",
   "execution_count": 13,
   "metadata": {},
   "outputs": [
    {
     "data": {
      "text/plain": [
       "\n",
       " <=50K   >50K \n",
       " 24720   7841 "
      ]
     },
     "metadata": {},
     "output_type": "display_data"
    },
    {
     "data": {
      "text/plain": [
       "\n",
       " <=50K.   >50K. \n",
       "  12435    3846 "
      ]
     },
     "metadata": {},
     "output_type": "display_data"
    }
   ],
   "source": [
    "# Ajustando o alvo - possui um espaço em branco e um ponto\n",
    "\n",
    "table(adult_train$target)\n",
    "table(adult_test$target)"
   ]
  },
  {
   "cell_type": "code",
   "execution_count": 14,
   "metadata": {},
   "outputs": [],
   "source": [
    "adult_test$target <- gsub(\".\", \"\", adult_test$target, fixed = TRUE)\n",
    "\n",
    "adult_train <- adult_train %>% mutate(across(where(is.character), str_trim))\n",
    "adult_test <- adult_test %>% mutate(across(where(is.character), str_trim))"
   ]
  },
  {
   "cell_type": "code",
   "execution_count": 15,
   "metadata": {},
   "outputs": [
    {
     "name": "stdout",
     "output_type": "stream",
     "text": [
      " chr [1:16281] \"<=50K\" \"<=50K\" \">50K\" \">50K\" \"<=50K\" \"<=50K\" \"<=50K\" \">50K\" ...\n"
     ]
    }
   ],
   "source": [
    "# Agora nao mais\n",
    "str(adult_test$target)"
   ]
  },
  {
   "cell_type": "code",
   "execution_count": 19,
   "metadata": {},
   "outputs": [
    {
     "data": {
      "text/plain": [
       "   Min. 1st Qu.  Median    Mean 3rd Qu.    Max. \n",
       "  17.00   28.00   37.00   38.58   48.00   90.00 "
      ]
     },
     "metadata": {},
     "output_type": "display_data"
    },
    {
     "data": {
      "text/plain": [
       "   Min. 1st Qu.  Median    Mean 3rd Qu.    Max. \n",
       "  17.00   28.00   37.00   38.77   48.00   90.00 "
      ]
     },
     "metadata": {},
     "output_type": "display_data"
    }
   ],
   "source": [
    "# Mais um outro problema\n",
    "\n",
    "summary(adult_train$age)\n",
    "summary(adult_test$age)"
   ]
  },
  {
   "cell_type": "code",
   "execution_count": 18,
   "metadata": {},
   "outputs": [],
   "source": [
    "adult_test$age <- as.numeric(adult_test$age)"
   ]
  },
  {
   "cell_type": "code",
   "execution_count": 20,
   "metadata": {},
   "outputs": [],
   "source": [
    "# Atençao: O XGBoost só funciona com vetores numéricos. Logo, precisamos transformar todos os dados e variaveis - usando \n",
    "# one hot encoding\n",
    "\n",
    "# Criando a matriz das variaveis - aqui acontece o one hot enconding\n",
    "treinamento <- model.matrix(~ .+0, data = subset(adult_train, select = -c(target))) \n",
    "teste <- model.matrix(~ .+0, data = subset(adult_test, select = -c(target))) "
   ]
  },
  {
   "cell_type": "code",
   "execution_count": 21,
   "metadata": {},
   "outputs": [
    {
     "name": "stdout",
     "output_type": "stream",
     "text": [
      " num [1:32561, 1:101] 39 50 38 53 28 37 49 52 31 42 ...\n",
      " - attr(*, \"dimnames\")=List of 2\n",
      "  ..$ : chr [1:32561] \"1\" \"2\" \"3\" \"4\" ...\n",
      "  ..$ : chr [1:101] \"age\" \"workclassAusente\" \"workclassFederal-gov\" \"workclassLocal-gov\" ...\n",
      " - attr(*, \"assign\")= int [1:101] 1 2 2 2 2 2 2 2 2 2 ...\n",
      " - attr(*, \"contrasts\")=List of 8\n",
      "  ..$ workclass     : chr \"contr.treatment\"\n",
      "  ..$ education     : chr \"contr.treatment\"\n",
      "  ..$ marital_status: chr \"contr.treatment\"\n",
      "  ..$ occupation    : chr \"contr.treatment\"\n",
      "  ..$ relationship  : chr \"contr.treatment\"\n",
      "  ..$ race          : chr \"contr.treatment\"\n",
      "  ..$ sex           : chr \"contr.treatment\"\n",
      "  ..$ native_country: chr \"contr.treatment\"\n",
      " num [1:16281, 1:100] 25 38 28 44 18 34 29 63 24 55 ...\n",
      " - attr(*, \"dimnames\")=List of 2\n",
      "  ..$ : chr [1:16281] \"1\" \"2\" \"3\" \"4\" ...\n",
      "  ..$ : chr [1:100] \"age\" \"workclassAusente\" \"workclassFederal-gov\" \"workclassLocal-gov\" ...\n",
      " - attr(*, \"assign\")= int [1:100] 1 2 2 2 2 2 2 2 2 2 ...\n",
      " - attr(*, \"contrasts\")=List of 8\n",
      "  ..$ workclass     : chr \"contr.treatment\"\n",
      "  ..$ education     : chr \"contr.treatment\"\n",
      "  ..$ marital_status: chr \"contr.treatment\"\n",
      "  ..$ occupation    : chr \"contr.treatment\"\n",
      "  ..$ relationship  : chr \"contr.treatment\"\n",
      "  ..$ race          : chr \"contr.treatment\"\n",
      "  ..$ sex           : chr \"contr.treatment\"\n",
      "  ..$ native_country: chr \"contr.treatment\"\n"
     ]
    }
   ],
   "source": [
    "str(treinamento)\n",
    "str(teste)"
   ]
  },
  {
   "cell_type": "code",
   "execution_count": 23,
   "metadata": {},
   "outputs": [
    {
     "data": {
      "text/plain": [
       "\n",
       "<=50K  >50K \n",
       "24720  7841 "
      ]
     },
     "metadata": {},
     "output_type": "display_data"
    }
   ],
   "source": [
    "# Ajustando o alvo para numerico\n",
    "table(adult_train$target)"
   ]
  },
  {
   "cell_type": "code",
   "execution_count": 22,
   "metadata": {},
   "outputs": [],
   "source": [
    "alvo_train <- ifelse(adult_train$target == \"<=50K\", 0, 1)\n",
    "alvo_test <- ifelse(adult_test$target == \"<=50K\", 0, 1)"
   ]
  },
  {
   "cell_type": "code",
   "execution_count": 24,
   "metadata": {},
   "outputs": [],
   "source": [
    "# Ajustando o formato das bases para o desenvolvimento do modelo\n",
    "\n",
    "treinamento <- xgb.DMatrix(data = treinamento, label = alvo_train) \n",
    "teste <- xgb.DMatrix(data = teste, label = alvo_test)\n",
    "\n",
    "colnames(teste) <- NULL"
   ]
  },
  {
   "cell_type": "code",
   "execution_count": 25,
   "metadata": {},
   "outputs": [
    {
     "data": {
      "text/plain": [
       "xgb.DMatrix  dim: 32561 x 101  info: label  colnames: yes"
      ]
     },
     "metadata": {},
     "output_type": "display_data"
    },
    {
     "data": {
      "text/plain": [
       "xgb.DMatrix  dim: 16281 x 100  info: label  colnames: no"
      ]
     },
     "metadata": {},
     "output_type": "display_data"
    }
   ],
   "source": [
    "treinamento\n",
    "teste"
   ]
  },
  {
   "cell_type": "code",
   "execution_count": 26,
   "metadata": {},
   "outputs": [
    {
     "name": "stdout",
     "output_type": "stream",
     "text": [
      "Class 'xgb.DMatrix' <externalptr> \n"
     ]
    }
   ],
   "source": [
    "str(teste)"
   ]
  },
  {
   "cell_type": "markdown",
   "metadata": {},
   "source": [
    "_____________________________________________"
   ]
  },
  {
   "cell_type": "markdown",
   "metadata": {},
   "source": [
    "### Desenvolvimento do modelo"
   ]
  },
  {
   "cell_type": "code",
   "execution_count": 27,
   "metadata": {},
   "outputs": [],
   "source": [
    "# Definiçao dos hiper parametros\n",
    "\n",
    "hiper_p <- list(booster = \"gbtree\", objective = \"binary:logistic\"\n",
    "               , eta = 0.1, gamma = 0, max_depth = 10, min_child_weight = 1\n",
    "               , subsample = 0.5, colsample_bytree = 1)"
   ]
  },
  {
   "cell_type": "code",
   "execution_count": 28,
   "metadata": {},
   "outputs": [
    {
     "name": "stdout",
     "output_type": "stream",
     "text": [
      "[21:19:52] WARNING: amalgamation/../src/learner.cc:1095: Starting in XGBoost 1.3.0, the default evaluation metric used with the objective 'binary:logistic' was changed from 'error' to 'logloss'. Explicitly set eval_metric if you'd like to restore the old behavior.\n",
      "[21:19:52] WARNING: amalgamation/../src/learner.cc:1095: Starting in XGBoost 1.3.0, the default evaluation metric used with the objective 'binary:logistic' was changed from 'error' to 'logloss'. Explicitly set eval_metric if you'd like to restore the old behavior.\n",
      "[21:19:52] WARNING: amalgamation/../src/learner.cc:1095: Starting in XGBoost 1.3.0, the default evaluation metric used with the objective 'binary:logistic' was changed from 'error' to 'logloss'. Explicitly set eval_metric if you'd like to restore the old behavior.\n",
      "[21:19:52] WARNING: amalgamation/../src/learner.cc:1095: Starting in XGBoost 1.3.0, the default evaluation metric used with the objective 'binary:logistic' was changed from 'error' to 'logloss'. Explicitly set eval_metric if you'd like to restore the old behavior.\n",
      "[21:19:52] WARNING: amalgamation/../src/learner.cc:1095: Starting in XGBoost 1.3.0, the default evaluation metric used with the objective 'binary:logistic' was changed from 'error' to 'logloss'. Explicitly set eval_metric if you'd like to restore the old behavior.\n",
      "[1]\ttrain-logloss:0.634259+0.000227\ttest-logloss:0.635575+0.000525 \n",
      "Multiple eval metrics are present. Will use test_logloss for early stopping.\n",
      "Will train until test_logloss hasn't improved in 20 rounds.\n",
      "\n",
      "[11]\ttrain-logloss:0.369435+0.000925\ttest-logloss:0.382996+0.003355 \n",
      "[21]\ttrain-logloss:0.293172+0.001352\ttest-logloss:0.317578+0.004715 \n",
      "[31]\ttrain-logloss:0.263499+0.001434\ttest-logloss:0.296088+0.005294 \n",
      "[41]\ttrain-logloss:0.248944+0.001765\ttest-logloss:0.289165+0.005841 \n",
      "[51]\ttrain-logloss:0.239291+0.001765\ttest-logloss:0.285816+0.006074 \n",
      "[61]\ttrain-logloss:0.231612+0.001559\ttest-logloss:0.284655+0.006333 \n",
      "[71]\ttrain-logloss:0.224481+0.001684\ttest-logloss:0.284232+0.006804 \n",
      "[81]\ttrain-logloss:0.217687+0.001161\ttest-logloss:0.284431+0.007602 \n",
      "[91]\ttrain-logloss:0.211423+0.000960\ttest-logloss:0.284928+0.007590 \n",
      "Stopping. Best iteration:\n",
      "[72]\ttrain-logloss:0.223739+0.001381\ttest-logloss:0.284208+0.006780\n",
      "\n"
     ]
    }
   ],
   "source": [
    "# Usando a funçao .cv para deterninar o melhor nùmero de repeticoes\n",
    "\n",
    "set.seed(42)\n",
    "best_nround <- xgb.cv(params = hiper_p, data = treinamento, nrounds = 100\n",
    "                , nfold = 5, showsd = T, stratified = T\n",
    "                , print.every.n = 10, early.stop.round = 20\n",
    "                , maximize = F)"
   ]
  },
  {
   "cell_type": "code",
   "execution_count": 29,
   "metadata": {},
   "outputs": [
    {
     "name": "stdout",
     "output_type": "stream",
     "text": [
      "List of 9\n",
      " $ call           : language xgb.cv(params = hiper_p, data = treinamento, nrounds = 100, nfold = 5,      showsd = T, stratified = T, maximize | __truncated__\n",
      " $ params         :List of 11\n",
      "  ..$ booster         : chr \"gbtree\"\n",
      "  ..$ objective       : chr \"binary:logistic\"\n",
      "  ..$ eta             : num 0.1\n",
      "  ..$ gamma           : num 0\n",
      "  ..$ max_depth       : num 10\n",
      "  ..$ min_child_weight: num 1\n",
      "  ..$ subsample       : num 0.5\n",
      "  ..$ colsample_bytree: num 1\n",
      "  ..$ print_every_n   : num 10\n",
      "  ..$ early_stop_round: num 20\n",
      "  ..$ silent          : num 1\n",
      " $ callbacks      :List of 3\n",
      "  ..$ cb.print.evaluation:function (env = parent.frame())  \n",
      "  .. ..- attr(*, \"call\")= language cb.print.evaluation(period = print_every_n, showsd = showsd)\n",
      "  .. ..- attr(*, \"name\")= chr \"cb.print.evaluation\"\n",
      "  ..$ cb.evaluation.log  :function (env = parent.frame(), finalize = FALSE)  \n",
      "  .. ..- attr(*, \"call\")= language cb.evaluation.log()\n",
      "  .. ..- attr(*, \"name\")= chr \"cb.evaluation.log\"\n",
      "  ..$ cb.early.stop      :function (env = parent.frame(), finalize = FALSE)  \n",
      "  .. ..- attr(*, \"call\")= language cb.early.stop(stopping_rounds = early_stopping_rounds, maximize = maximize,      verbose = verbose)\n",
      "  .. ..- attr(*, \"name\")= chr \"cb.early.stop\"\n",
      " $ evaluation_log :Classes 'data.table' and 'data.frame':\t92 obs. of  5 variables:\n",
      "  ..$ iter              : num [1:92] 1 2 3 4 5 6 7 8 9 10 ...\n",
      "  ..$ train_logloss_mean: num [1:92] 0.634 0.586 0.545 0.511 0.481 ...\n",
      "  ..$ train_logloss_std : num [1:92] 0.000227 0.000303 0.000471 0.000525 0.000567 ...\n",
      "  ..$ test_logloss_mean : num [1:92] 0.636 0.588 0.549 0.516 0.488 ...\n",
      "  ..$ test_logloss_std  : num [1:92] 0.000525 0.000945 0.001274 0.001478 0.001851 ...\n",
      "  ..- attr(*, \".internal.selfref\")=<externalptr> \n",
      " $ niter          : int 92\n",
      " $ nfeatures      : int 101\n",
      " $ folds          :List of 5\n",
      "  ..$ : int [1:6512] 12 15 19 21 27 30 33 36 45 52 ...\n",
      "  ..$ : int [1:6512] 2 4 7 8 16 18 23 28 42 46 ...\n",
      "  ..$ : int [1:6512] 3 6 9 10 11 13 14 17 24 29 ...\n",
      "  ..$ : int [1:6512] 1 5 31 37 43 48 50 68 71 72 ...\n",
      "  ..$ : int [1:6513] 20 22 25 26 38 39 40 41 44 47 ...\n",
      " $ best_iteration : int 72\n",
      " $ best_ntreelimit: num 72\n",
      " - attr(*, \"class\")= chr \"xgb.cv.synchronous\"\n"
     ]
    }
   ],
   "source": [
    "str(best_nround)"
   ]
  },
  {
   "cell_type": "code",
   "execution_count": 30,
   "metadata": {},
   "outputs": [
    {
     "data": {
      "image/png": "[encoded data removed]",
      "text/plain": [
       "plot without title"
      ]
     },
     "metadata": {},
     "output_type": "display_data"
    }
   ],
   "source": [
    "# Visualizaçao da log_loss - treinamento x teste\n",
    "\n",
    "colors <- c(\"train_logloss_mean\" = \"darkblue\"\n",
    "           ,\"test_logloss_mean \" = \"red\")\n",
    "\n",
    "ggplot(data = best_nround$evaluation_log, aes(x = iter)) +\n",
    "geom_line(aes(y = train_logloss_mean, color = \"train_logloss_mean\"), size = 1, alpha = 0.8) +\n",
    "geom_line(aes(y = test_logloss_mean , color = \"test_logloss_mean\"), size = 1, alpha = 0.8) +\n",
    "theme_minimal() +\n",
    "theme(legend.position = \"bottom\") +\n",
    "ggtitle(\"Avaliaçao do modelo - logloss_mean\") +\n",
    "labs(caption = \"OMNP\", color = \"\") "
   ]
  },
  {
   "cell_type": "code",
   "execution_count": 32,
   "metadata": {},
   "outputs": [
    {
     "name": "stdout",
     "output_type": "stream",
     "text": [
      "[21:24:07] WARNING: amalgamation/../src/learner.cc:573: \n",
      "Parameters: { \"print_every_n\" } might not be used.\n",
      "\n",
      "  This may not be accurate due to some parameters are only used in language bindings but\n",
      "  passed down to XGBoost core.  Or some parameters are not used but slip through this\n",
      "  verification. Please open an issue if you find above cases.\n",
      "\n",
      "\n",
      "[1]\ttrain-logloss:0.538294 \n",
      "[11]\ttrain-logloss:0.282970 \n",
      "[21]\ttrain-logloss:0.273257 \n",
      "[31]\ttrain-logloss:0.263059 \n",
      "[41]\ttrain-logloss:0.256426 \n",
      "[51]\ttrain-logloss:0.251347 \n",
      "[61]\ttrain-logloss:0.246602 \n",
      "[71]\ttrain-logloss:0.242217 \n",
      "[72]\ttrain-logloss:0.242023 \n"
     ]
    }
   ],
   "source": [
    "# Treinando o modelo\n",
    "\n",
    "set.seed(42)\n",
    "mod1 <-xgboost(data = treinamento\n",
    "               , hiper_p\n",
    "               , nrounds = best_nround$best_iteration\n",
    "               , print.every.n = 10\n",
    "               , eval_metric = \"logloss\")"
   ]
  },
  {
   "cell_type": "code",
   "execution_count": 31,
   "metadata": {},
   "outputs": [
    {
     "data": {
      "text/html": [
       "72"
      ],
      "text/latex": [
       "72"
      ],
      "text/markdown": [
       "72"
      ],
      "text/plain": [
       "[1] 72"
      ]
     },
     "metadata": {},
     "output_type": "display_data"
    }
   ],
   "source": [
    "best_nround$best_iteration"
   ]
  },
  {
   "cell_type": "code",
   "execution_count": 33,
   "metadata": {},
   "outputs": [],
   "source": [
    "# Previsao no treinamento e teste\n",
    "\n",
    "y_pred_teste <- predict(mod1, teste)"
   ]
  },
  {
   "cell_type": "code",
   "execution_count": 34,
   "metadata": {},
   "outputs": [],
   "source": [
    "y_pred_teste <- ifelse(y_pred_teste > 0.5, 1, 0)"
   ]
  },
  {
   "cell_type": "markdown",
   "metadata": {},
   "source": [
    "_____________________________________________"
   ]
  },
  {
   "cell_type": "markdown",
   "metadata": {},
   "source": [
    "### Avaliaçao dos modelo"
   ]
  },
  {
   "cell_type": "code",
   "execution_count": 35,
   "metadata": {},
   "outputs": [
    {
     "data": {
      "text/plain": [
       "Confusion Matrix and Statistics\n",
       "\n",
       "          Reference\n",
       "Prediction     0     1\n",
       "         0 11850  1514\n",
       "         1   585  2332\n",
       "                                          \n",
       "               Accuracy : 0.8711          \n",
       "                 95% CI : (0.8658, 0.8762)\n",
       "    No Information Rate : 0.7638          \n",
       "    P-Value [Acc > NIR] : < 2.2e-16       \n",
       "                                          \n",
       "                  Kappa : 0.6102          \n",
       "                                          \n",
       " Mcnemar's Test P-Value : < 2.2e-16       \n",
       "                                          \n",
       "            Sensitivity : 0.6063          \n",
       "            Specificity : 0.9530          \n",
       "         Pos Pred Value : 0.7995          \n",
       "         Neg Pred Value : 0.8867          \n",
       "             Prevalence : 0.2362          \n",
       "         Detection Rate : 0.1432          \n",
       "   Detection Prevalence : 0.1792          \n",
       "      Balanced Accuracy : 0.7796          \n",
       "                                          \n",
       "       'Positive' Class : 1               \n",
       "                                          "
      ]
     },
     "metadata": {},
     "output_type": "display_data"
    }
   ],
   "source": [
    "# Matriz de confusao\n",
    "\n",
    "confusionMatrix(as.factor(y_pred_teste), as.factor(alvo_test), positive = \"1\")"
   ]
  },
  {
   "cell_type": "code",
   "execution_count": 37,
   "metadata": {},
   "outputs": [
    {
     "data": {
      "image/png": "[encoded data removed]",
      "text/plain": [
       "plot without title"
      ]
     },
     "metadata": {},
     "output_type": "display_data"
    }
   ],
   "source": [
    "# Importancia das variaveis\n",
    "\n",
    "important_vars <- xgb.importance(feature_names = colnames(teste), model = mod1)\n",
    "xgb.plot.importance(importance_matrix = important_vars[1:20]) "
   ]
  }
 ],
 "metadata": {
  "kernelspec": {
   "display_name": "R",
   "language": "R",
   "name": "ir"
  },
  "language_info": {
   "codemirror_mode": "r",
   "file_extension": ".r",
   "mimetype": "text/x-r-source",
   "name": "R",
   "pygments_lexer": "r",
   "version": "3.6.1"
  }
 },
 "nbformat": 4,
 "nbformat_minor": 2
}
