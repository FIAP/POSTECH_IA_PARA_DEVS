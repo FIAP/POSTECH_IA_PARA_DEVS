{
  "cells": [
    {
      "cell_type": "markdown",
      "metadata": {
        "id": "vfsThqg4Inu6"
      },
      "source": [
        "# Transformers are hardware-driven Architectures\n",
        "\n",
        "copyright 2023, Denis Rothman\n",
        "\n",
        "Transformers are hardware and data-driven architectures. This notebooks illustrates the hardware-driven perspective.\n",
        "\n",
        "This notebook illlustrates the complexity for Self-attention and reccurent layers. The functions are not the actual algorithms of Transformers and RNNs. They simply show how the complexity of the layers varies with a CPU, a GPU, and a TPU. **Run the notebook cell by cell to make sure to choose the right type of processor. If you don't have access to a GPU or a TPU, you can read the notebook.**\n",
        "\n",
        "Self-attention layers benefit from matrix multiplications whereas reccurent layers are mostly sequential.\n",
        "\n",
        "The notebook is divided into 3 sections: CPU, GPU, and TPU.\n",
        "\n",
        "Reference for complexity: [Attention is All You Need, Vaswani et al.(2017)](https://arxiv.org/abs/1706.03762), page 6:\n",
        "\n",
        "![image.png](data:image/png;base64,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)\n",
        "\n",
        "\n",
        "\n"
      ]
    },
    {
      "cell_type": "markdown",
      "metadata": {
        "id": "FXmoFIDVItMR"
      },
      "source": [
        "# CPU"
      ]
    },
    {
      "cell_type": "code",
      "execution_count": null,
      "metadata": {
        "colab": {
          "base_uri": "https://localhost:8080/"
        },
        "id": "ufJkoPHU2dz8",
        "outputId": "4e509154-9b90-4845-b82a-4ee5345d1bba"
      },
      "outputs": [
        {
          "name": "stdout",
          "output_type": "stream",
          "text": [
            "Self-attention computation time: 0.7938594818115234 seconds\n",
            "Recurrent layer computation time: 109.65185356140137 seconds\n",
            "The percentage of 'computational time for attention' in the sum of 'attention' and 'recurrent' is 0.72%\n"
          ]
        }
      ],
      "source": [
        "#Computational times of complexity per layer\n",
        "# Comparing the computational time between:\n",
        "# self attention = O(n^2 * d)\n",
        "#and\n",
        "# recurrent = O(n * d^2)\n",
        "import numpy as np\n",
        "import time\n",
        "\n",
        "# define the sequence length and representation dimensionality\n",
        "n = 512\n",
        "d = 512\n",
        "\n",
        "# define the inputs\n",
        "input_seq = np.random.rand(n, d)\n",
        "\n",
        "# simulation of self-attention layer O(n^2*d)\n",
        "start_time = time.time()\n",
        "for i in range(n):\n",
        "    for j in range(n):\n",
        "        _ = np.dot(input_seq[i], input_seq[j])\n",
        "at=time.time()-start_time\n",
        "print(f\"Self-attention computation time: {time.time() - start_time} seconds\")\n",
        "\n",
        "# simulation of recurrent layer O(n*d^2)\n",
        "start_time = time.time()\n",
        "hidden_state = np.zeros(d)\n",
        "for i in range(n):\n",
        "    for j in range(d):\n",
        "        for k in range(d):\n",
        "            hidden_state[j] += input_seq[i, j] * hidden_state[k]\n",
        "rt=time.time()-start_time\n",
        "print(f\"Recurrent layer computation time: {time.time() - start_time} seconds\")\n",
        "\n",
        "# Calculate the total\n",
        "total = at + rt\n",
        "\n",
        "# Calculate the percentage of at\n",
        "percentage_at = round((at / total) * 100,2)\n",
        "\n",
        "# Output the result\n",
        "print(f\"The percentage of 'computational time for attention' in the sum of 'attention' and 'recurrent' is {percentage_at}%\")\n",
        "\n",
        "# Calculate x, which is the ratio of rt to at\n",
        "x = round(rt / at,2)"
      ]
    },
    {
      "cell_type": "markdown",
      "metadata": {
        "id": "HDfcbxEZw1fM"
      },
      "source": [
        "## Output\n",
        "   \n",
        "Self-attention computation time: 0.7938594818115234 seconds  \n",
        "Recurrent layer computation time: 109.65185356140137 seconds  \n",
        "The percentage of 'computational time for attention' in the sum of 'attention' and 'recurrent' is 0.72%\n",
        "\n",
        "**Note:** the processors may evolve but the concepts remains the same."
      ]
    },
    {
      "cell_type": "markdown",
      "metadata": {
        "id": "Li-JQlN7LfQ_"
      },
      "source": [
        "# GPU"
      ]
    },
    {
      "cell_type": "code",
      "execution_count": null,
      "metadata": {
        "colab": {
          "base_uri": "https://localhost:8080/"
        },
        "id": "oZS-Kobd7I1Q",
        "outputId": "99d98ad4-42b1-40fa-93f9-7018a7d08e57"
      },
      "outputs": [
        {
          "name": "stdout",
          "output_type": "stream",
          "text": [
            "cuda\n",
            "Self-attention computation time: 2.887202501296997 seconds\n",
            "Recurrent layer computation time: 36.3216814994812 seconds\n",
            "The percentage of self-attention computation in the sum of self-attention and recurrent computation is 7.36%\n"
          ]
        }
      ],
      "source": [
        "# PyTorch version\n",
        "import torch\n",
        "import time\n",
        "\n",
        "# define the sequence length and representation dimensionality\n",
        "n = 512\n",
        "d = 512\n",
        "\n",
        "# Use GPU if available, otherwise stick with cpu\n",
        "device = torch.device(\"cuda\" if torch.cuda.is_available() else \"cpu\")\n",
        "print(device)\n",
        "# define the inputs\n",
        "input_seq = torch.rand(n, d, device=device)\n",
        "\n",
        "# simulation of self-attention layer O(n^2*d)\n",
        "start_time = time.time()\n",
        "_ = torch.mm(input_seq, input_seq.t())\n",
        "at = time.time() - start_time\n",
        "print(f\"Self-attention computation time: {at} seconds\")\n",
        "\n",
        "# simulation of recurrent layer O(n*d^2)\n",
        "start_time = time.time()\n",
        "hidden_state = torch.zeros(d, device=device)\n",
        "for i in range(n):\n",
        "    for j in range(d):\n",
        "        for k in range(d):\n",
        "            hidden_state[j] += input_seq[i, j] * hidden_state[k]\n",
        "            ct = time.time() - start_time\n",
        "            if ct>at*10:\n",
        "              break\n",
        "\n",
        "rt = time.time() - start_time\n",
        "print(f\"Recurrent layer computation time: {rt} seconds\")\n",
        "\n",
        "# Calculate the total\n",
        "total = at + rt\n",
        "\n",
        "# Calculate the percentage of at\n",
        "percentage_at = round((at / total) * 100, 2)\n",
        "\n",
        "# Output the result\n",
        "print(f\"The percentage of self-attention computation in the sum of self-attention and recurrent computation is {percentage_at}%\")"
      ]
    },
    {
      "cell_type": "markdown",
      "metadata": {
        "id": "dv2fEBebxLHj"
      },
      "source": [
        "## Output    \n",
        "cuda\n",
        "Self-attention computation time: 2.887202501296997 seconds\n",
        "Recurrent layer computation time: 36.3216814994812 seconds\n",
        "The percentage of self-attention computation in the sum of self-attention and recurrent computation is 7.36%\n",
        "\n",
        "**Note:**: the processors may evolve but the concepts remains the same."
      ]
    },
    {
      "cell_type": "code",
      "execution_count": null,
      "metadata": {
        "colab": {
          "base_uri": "https://localhost:8080/"
        },
        "id": "cYcOZciYKRUf",
        "outputId": "abc90178-7634-437d-bd14-c7688901b3cf"
      },
      "outputs": [
        {
          "name": "stdout",
          "output_type": "stream",
          "text": [
            "Sun Jul 16 17:52:50 2023       \n",
            "+-----------------------------------------------------------------------------+\n",
            "| NVIDIA-SMI 525.105.17   Driver Version: 525.105.17   CUDA Version: 12.0     |\n",
            "|-------------------------------+----------------------+----------------------+\n",
            "| GPU  Name        Persistence-M| Bus-Id        Disp.A | Volatile Uncorr. ECC |\n",
            "| Fan  Temp  Perf  Pwr:Usage/Cap|         Memory-Usage | GPU-Util  Compute M. |\n",
            "|                               |                      |               MIG M. |\n",
            "|===============================+======================+======================|\n",
            "|   0  Tesla V100-SXM2...  Off  | 00000000:00:04.0 Off |                    0 |\n",
            "| N/A   36C    P0    41W / 300W |   1014MiB / 16384MiB |      0%      Default |\n",
            "|                               |                      |                  N/A |\n",
            "+-------------------------------+----------------------+----------------------+\n",
            "                                                                               \n",
            "+-----------------------------------------------------------------------------+\n",
            "| Processes:                                                                  |\n",
            "|  GPU   GI   CI        PID   Type   Process name                  GPU Memory |\n",
            "|        ID   ID                                                   Usage      |\n",
            "|=============================================================================|\n",
            "+-----------------------------------------------------------------------------+\n"
          ]
        }
      ],
      "source": [
        "!nvidia-smi"
      ]
    },
    {
      "cell_type": "markdown",
      "metadata": {
        "id": "kpqORvv21hru"
      },
      "source": [
        "## Output for processor information\n",
        "\n",
        "**Note:**: the processors may evolve but the concepts remains the same"
      ]
    },
    {
      "cell_type": "markdown",
      "metadata": {
        "id": "ZkZgVvaW1dT6"
      },
      "source": [
        "![image.png](data:image/png;base64,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)"
      ]
    },
    {
      "cell_type": "markdown",
      "metadata": {
        "id": "gTry34c4LEyg"
      },
      "source": [
        "# TPU"
      ]
    },
    {
      "cell_type": "code",
      "execution_count": null,
      "metadata": {
        "colab": {
          "base_uri": "https://localhost:8080/"
        },
        "id": "0hpBztJ3eG7t",
        "outputId": "ebc3d14b-0386-4485-ce3c-5881f0ee0e7d"
      },
      "outputs": [
        {
          "name": "stdout",
          "output_type": "stream",
          "text": [
            "Self-attention computation time: 0.10626077651977539 seconds\n",
            "Recurrent layer computation time: 66.53181290626526 seconds\n",
            "The percentage of self-attention computation in the sum of self-attention and recurrent computation is 0.16%\n"
          ]
        }
      ],
      "source": [
        "import tensorflow as tf\n",
        "import numpy as np\n",
        "import time\n",
        "\n",
        "# define the sequence length and representation dimensionality\n",
        "n = 512\n",
        "d = 512\n",
        "\n",
        "# define the inputs\n",
        "input_seq = tf.random.normal((n, d), dtype=tf.float32)\n",
        "\n",
        "# simulation of self-attention layer O(n^2*d)\n",
        "start_time = time.time()\n",
        "_ = tf.matmul(input_seq, input_seq, transpose_b=True)\n",
        "at = time.time() - start_time\n",
        "print(f\"Self-attention computation time: {at} seconds\")\n",
        "\n",
        "# simulation of recurrent layer O(n*d^2)\n",
        "start_time = time.time()\n",
        "hidden_state = np.zeros((n, d), dtype=np.float32)\n",
        "for i in range(n):\n",
        "    for j in range(d):\n",
        "        for k in range(d):\n",
        "            hidden_state[i, j] += input_seq[i, j].numpy() * hidden_state[min(i,k), j]\n",
        "            ct = time.time() - start_time\n",
        "            if ct>at*10:\n",
        "              break\n",
        "\n",
        "rt = time.time() - start_time\n",
        "print(f\"Recurrent layer computation time: {rt} seconds\")\n",
        "\n",
        "# Calculate the total\n",
        "total = at + rt\n",
        "\n",
        "# Calculate the percentage of at\n",
        "percentage_at = round((at / total) * 100, 2)\n",
        "\n",
        "# Output the result\n",
        "print(f\"The percentage of self-attention computation in the sum of self-attention and recurrent computation is {percentage_at}%\")"
      ]
    },
    {
      "cell_type": "markdown",
      "metadata": {
        "id": "FRhHvEgAxrVL"
      },
      "source": [
        "## Output\n",
        "Self-attention computation time: 0.10626077651977539 seconds  \n",
        "Recurrent layer computation time: 66.53181290626526 seconds  \n",
        "The percentage of self-attention computation in the sum of self-attention and recurrent computation is 0.16%'  \n",
        "**Note:**\n",
        " The processors may evolve but the concepts remains the same."
      ]
    },
    {
      "cell_type": "markdown",
      "metadata": {
        "id": "on7dMgSRS2hm"
      },
      "source": [
        "## LLM configuration"
      ]
    },
    {
      "cell_type": "code",
      "execution_count": null,
      "metadata": {
        "colab": {
          "base_uri": "https://localhost:8080/"
        },
        "id": "KhFJpLDelUBe",
        "outputId": "91020adc-f3bd-4c46-a1c4-a3077c245707"
      },
      "outputs": [
        {
          "name": "stdout",
          "output_type": "stream",
          "text": [
            "Self-attention computation time: 23.117244005203247 seconds\n"
          ]
        }
      ],
      "source": [
        "import tensorflow as tf\n",
        "import numpy as np\n",
        "import time\n",
        "\n",
        "# define the sequence length and representation dimensionality\n",
        "n =  32768\n",
        "d = 12288\n",
        "\n",
        "# define the inputs\n",
        "input_seq = tf.random.normal((n, d), dtype=tf.float32)\n",
        "\n",
        "# simulation of self-attention layer O(n^2*d)\n",
        "start_time = time.time()\n",
        "_ = tf.matmul(input_seq, input_seq, transpose_b=True)\n",
        "\n",
        "at = time.time() - start_time\n",
        "print(f\"Self-attention computation time: {at} seconds\")"
      ]
    },
    {
      "cell_type": "markdown",
      "metadata": {
        "id": "wd8_AfScx7sl"
      },
      "source": [
        "### Output LLM configuration\n",
        "\n",
        "Self-attention computation time: 23.391557216644287 seconds\n",
        "\n",
        "**Note:**   \n",
        "The processors may evolve but the concepts remains the same."
      ]
    },
    {
      "cell_type": "markdown",
      "metadata": {
        "id": "VbhlM_CJx4jt"
      },
      "source": [
        "### TPU information\n",
        "\n",
        "Restart the runtime before running this cell.\n"
      ]
    },
    {
      "cell_type": "code",
      "execution_count": null,
      "metadata": {
        "colab": {
          "base_uri": "https://localhost:8080/"
        },
        "id": "pLa87sh8kQIs",
        "outputId": "bfb46f9d-e84f-4c59-eb8a-f32ca77684d3"
      },
      "outputs": [
        {
          "name": "stdout",
          "output_type": "stream",
          "text": [
            "  Timestamp: 10:20:30\n",
            "  TPU type: TPU v2\n",
            "  Utilization of TPU Matrix Units (higher is better): 0.000%\n",
            "\n",
            "\n"
          ]
        }
      ],
      "source": [
        "import os\n",
        "from tensorflow.python.profiler import profiler_client\n",
        "\n",
        "tpu_profile_service_address = os.environ['COLAB_TPU_ADDR'].replace('8470', '8466')\n",
        "print(profiler_client.monitor(tpu_profile_service_address, 100, 2))"
      ]
    },
    {
      "cell_type": "markdown",
      "metadata": {
        "id": "-Zp67hySyMCU"
      },
      "source": [
        "**Output:**  \n",
        "  Timestamp: 07:49:22  \n",
        "  TPU type: TPU v2  \n",
        "  Utilization of TPU Matrix Units (higher is better): 0.000%\n"
      ]
    }
  ],
  "metadata": {
    "colab": {
      "authorship_tag": "ABX9TyOB99yju8CkI90G1GEmNo5L",
      "gpuType": "V100",
      "provenance": [],
      "toc_visible": true
    },
    "kernelspec": {
      "display_name": "Python 3",
      "name": "python3"
    },
    "language_info": {
      "name": "python"
    }
  },
  "nbformat": 4,
  "nbformat_minor": 0
}
